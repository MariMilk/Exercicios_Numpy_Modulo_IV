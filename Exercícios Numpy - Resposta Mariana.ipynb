{
 "cells": [
  {
   "cell_type": "code",
   "execution_count": 2,
   "id": "38e23ea9",
   "metadata": {
    "ExecuteTime": {
     "end_time": "2021-09-08T22:10:13.222526Z",
     "start_time": "2021-09-08T22:10:12.411487Z"
    }
   },
   "outputs": [],
   "source": [
    "import numpy as np"
   ]
  },
  {
   "cell_type": "markdown",
   "id": "7775640f",
   "metadata": {},
   "source": [
    "## Questão 1 - Crie um numpy array com 10 elementos 0, exceto o elemento de índice 6, que deve ser 20"
   ]
  },
  {
   "cell_type": "code",
   "execution_count": 6,
   "id": "b75509a9",
   "metadata": {},
   "outputs": [
    {
     "data": {
      "text/plain": [
       "array([ 0.,  0.,  0.,  0.,  0.,  0., 20.,  0.,  0.,  0.])"
      ]
     },
     "execution_count": 6,
     "metadata": {},
     "output_type": "execute_result"
    }
   ],
   "source": [
    "resposta = np.zeros(10)\n",
    "resposta[6] = 20\n",
    "resposta\n"
   ]
  },
  {
   "cell_type": "markdown",
   "id": "a104a324",
   "metadata": {},
   "source": [
    "## Questão 2 - Crie uma função que receba um numpy array e retorne um array de 20 elementos contendo apenas o maior elemento do array recebido"
   ]
  },
  {
   "cell_type": "code",
   "execution_count": 25,
   "id": "7e5f9500",
   "metadata": {},
   "outputs": [
    {
     "data": {
      "text/plain": [
       "array([[800, 800, 800],\n",
       "       [800, 800, 800],\n",
       "       [800, 800, 800]])"
      ]
     },
     "execution_count": 25,
     "metadata": {},
     "output_type": "execute_result"
    }
   ],
   "source": [
    "def resposta(array):\n",
    "    shape = array.shape\n",
    "    maximo = array.max()\n",
    "    return np.full (shape, maximo)\n",
    "\n",
    "Mari = np.array([[1,2,800], [4,30,6], [7,8,9]])\n",
    "\n",
    "resposta(Mari)"
   ]
  },
  {
   "cell_type": "markdown",
   "id": "a97eb2e1",
   "metadata": {},
   "source": [
    "## Questão 3 - Faça uma função que receba um array, eleve ele ao quadrado, some 3, pegue apenas o elementos que são diferentes de 4 e, por último, divida por 4. Depois, retorne esse array modificado"
   ]
  },
  {
   "cell_type": "code",
   "execution_count": 36,
   "id": "e051c264",
   "metadata": {},
   "outputs": [
    {
     "data": {
      "text/plain": [
       "array([ 1.75,  3.  ,  4.75,  7.  ,  9.75, 13.  , 16.75, 21.  , 25.75,\n",
       "       31.  , 36.75])"
      ]
     },
     "execution_count": 36,
     "metadata": {},
     "output_type": "execute_result"
    }
   ],
   "source": [
    "def resposta(array):\n",
    "    array = (array**2) + 3\n",
    "    return (array[array != 4])/4\n",
    "\n",
    "resposta(np.array([[1,2,3], [4,5,6], [7,8,9], [10,11,12]]))\n"
   ]
  },
  {
   "cell_type": "code",
   "execution_count": null,
   "id": "c99561f8",
   "metadata": {},
   "outputs": [],
   "source": []
  },
  {
   "cell_type": "markdown",
   "id": "2a7ce405",
   "metadata": {},
   "source": [
    "## Questão 4 - Faça uma função que receba dois array, junte os dois e retorne"
   ]
  },
  {
   "cell_type": "code",
   "execution_count": 50,
   "id": "9dbcc338",
   "metadata": {},
   "outputs": [
    {
     "data": {
      "text/plain": [
       "array([1, 2, 3, 4, 5, 6])"
      ]
     },
     "execution_count": 50,
     "metadata": {},
     "output_type": "execute_result"
    }
   ],
   "source": [
    "def concatenar(array, array_1):\n",
    "    return np.concatenate((array, array_1), axis = None)\n",
    "\n",
    "array_1 = np.array([1,2,3])\n",
    "array_2 = np.array([4,5,6])\n",
    "\n",
    "concatenar(array_1, array_2)\n"
   ]
  },
  {
   "cell_type": "markdown",
   "id": "343b73e6",
   "metadata": {},
   "source": [
    "## Questão 5 - Faça uma função que descreva meu array exibindo os seguintes dados com até 3 casas decimais: máx, min, média, desvio padrão (standard deviation). A exibição deve ser da seguinte forma:\n",
    "\n",
    "```\n",
    "******************************\n",
    "Array: [0, 5, 6, 8, 9]\n",
    "\n",
    "Max: 9\n",
    "Min: 0\n",
    "Media: 5.6\n",
    "Desvio padrao: 3.137\n",
    "******************************\n",
    "```"
   ]
  },
  {
   "cell_type": "code",
   "execution_count": 66,
   "id": "648894a5",
   "metadata": {},
   "outputs": [
    {
     "name": "stdout",
     "output_type": "stream",
     "text": [
      "****************************************\n",
      "Máximo: 9\n",
      "Mínimo: 0\n",
      "Média: 5.6\n",
      "Desvio Padrão: 3.137\n",
      "****************************************\n"
     ]
    }
   ],
   "source": [
    "def relatorio(array):\n",
    "    print('*'*40)\n",
    "    print(f'Máximo: {array.max()}')\n",
    "    print(f'Mínimo: {array.min()}')\n",
    "    print(f'Média: {array.mean()}')\n",
    "    print(f'Desvio Padrão: {array.std():,.3f}')\n",
    "    print('*'*40)\n",
    "\n",
    "array = np.array([0, 5, 6, 8, 9])\n",
    "\n",
    "relatorio(array)"
   ]
  }
 ],
 "metadata": {
  "kernelspec": {
   "display_name": "Python 3 (ipykernel)",
   "language": "python",
   "name": "python3"
  },
  "language_info": {
   "codemirror_mode": {
    "name": "ipython",
    "version": 3
   },
   "file_extension": ".py",
   "mimetype": "text/x-python",
   "name": "python",
   "nbconvert_exporter": "python",
   "pygments_lexer": "ipython3",
   "version": "3.9.7"
  }
 },
 "nbformat": 4,
 "nbformat_minor": 5
}
